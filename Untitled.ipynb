{
 "cells": [
  {
   "cell_type": "markdown",
   "id": "e1c76c81",
   "metadata": {},
   "source": [
    "# Pandas 📃✍"
   ]
  },
  {
   "cell_type": "markdown",
   "id": "e5fe95e7",
   "metadata": {},
   "source": [
    "Pandas is a powerful open-source Python library used for data manipulation and analysis.  \n",
    "Pandas makes it easy to work with structured data (like tables). It allows you to load, analyze, clean, and manipulate data efficiently."
   ]
  },
  {
   "cell_type": "markdown",
   "id": "0368e029",
   "metadata": {},
   "source": [
    "# Load Libraries "
   ]
  },
  {
   "cell_type": "code",
   "execution_count": 120,
   "id": "bf3b4c5f",
   "metadata": {},
   "outputs": [],
   "source": [
    "import pandas as pd\n",
    "import matplotlib.pyplot as plt # use for Data visualization"
   ]
  },
  {
   "cell_type": "markdown",
   "id": "5e5f2d5e",
   "metadata": {},
   "source": [
    "# Create Data"
   ]
  },
  {
   "cell_type": "code",
   "execution_count": 121,
   "id": "6a53a513",
   "metadata": {},
   "outputs": [],
   "source": [
    "data = {\n",
    "    'Age': [19,21,20,23,31,22,35,23,64,30,67,35,58,24,50],\n",
    "    'Name': ['Maaz', 'Talha', 'Yaseen', 'Waqas', 'Saim', 'Javid', 'Abid', 'Hamza', 'Wasif', 'Waqas', 'Shayan', 'Saad', 'Waqas', 'Yaseen', 'Dawood'],\n",
    "    'Salary': [3000,8000,2080, 10000, 150000, 1200, 1000, 24000, 32000, 70000, 90000, 60000, 78000, 23000, 4000]\n",
    "}"
   ]
  },
  {
   "cell_type": "markdown",
   "id": "3317699c",
   "metadata": {},
   "source": [
    "# Create Dataframe using Pandas "
   ]
  },
  {
   "cell_type": "code",
   "execution_count": 122,
   "id": "b7b9808a",
   "metadata": {},
   "outputs": [],
   "source": [
    "df  = pd.DataFrame(data) # Data convert to Dataframe"
   ]
  },
  {
   "cell_type": "code",
   "execution_count": 123,
   "id": "8322603d",
   "metadata": {},
   "outputs": [
    {
     "data": {
      "text/html": [
       "<div>\n",
       "<style scoped>\n",
       "    .dataframe tbody tr th:only-of-type {\n",
       "        vertical-align: middle;\n",
       "    }\n",
       "\n",
       "    .dataframe tbody tr th {\n",
       "        vertical-align: top;\n",
       "    }\n",
       "\n",
       "    .dataframe thead th {\n",
       "        text-align: right;\n",
       "    }\n",
       "</style>\n",
       "<table border=\"1\" class=\"dataframe\">\n",
       "  <thead>\n",
       "    <tr style=\"text-align: right;\">\n",
       "      <th></th>\n",
       "      <th>Age</th>\n",
       "      <th>Name</th>\n",
       "      <th>Salary</th>\n",
       "    </tr>\n",
       "  </thead>\n",
       "  <tbody>\n",
       "    <tr>\n",
       "      <th>0</th>\n",
       "      <td>19</td>\n",
       "      <td>Maaz</td>\n",
       "      <td>3000</td>\n",
       "    </tr>\n",
       "    <tr>\n",
       "      <th>1</th>\n",
       "      <td>21</td>\n",
       "      <td>Talha</td>\n",
       "      <td>8000</td>\n",
       "    </tr>\n",
       "    <tr>\n",
       "      <th>2</th>\n",
       "      <td>20</td>\n",
       "      <td>Yaseen</td>\n",
       "      <td>2080</td>\n",
       "    </tr>\n",
       "    <tr>\n",
       "      <th>3</th>\n",
       "      <td>23</td>\n",
       "      <td>Waqas</td>\n",
       "      <td>10000</td>\n",
       "    </tr>\n",
       "    <tr>\n",
       "      <th>4</th>\n",
       "      <td>31</td>\n",
       "      <td>Saim</td>\n",
       "      <td>150000</td>\n",
       "    </tr>\n",
       "    <tr>\n",
       "      <th>5</th>\n",
       "      <td>22</td>\n",
       "      <td>Javid</td>\n",
       "      <td>1200</td>\n",
       "    </tr>\n",
       "    <tr>\n",
       "      <th>6</th>\n",
       "      <td>35</td>\n",
       "      <td>Abid</td>\n",
       "      <td>1000</td>\n",
       "    </tr>\n",
       "    <tr>\n",
       "      <th>7</th>\n",
       "      <td>23</td>\n",
       "      <td>Hamza</td>\n",
       "      <td>24000</td>\n",
       "    </tr>\n",
       "    <tr>\n",
       "      <th>8</th>\n",
       "      <td>64</td>\n",
       "      <td>Wasif</td>\n",
       "      <td>32000</td>\n",
       "    </tr>\n",
       "    <tr>\n",
       "      <th>9</th>\n",
       "      <td>30</td>\n",
       "      <td>Waqas</td>\n",
       "      <td>70000</td>\n",
       "    </tr>\n",
       "    <tr>\n",
       "      <th>10</th>\n",
       "      <td>67</td>\n",
       "      <td>Shayan</td>\n",
       "      <td>90000</td>\n",
       "    </tr>\n",
       "    <tr>\n",
       "      <th>11</th>\n",
       "      <td>35</td>\n",
       "      <td>Saad</td>\n",
       "      <td>60000</td>\n",
       "    </tr>\n",
       "    <tr>\n",
       "      <th>12</th>\n",
       "      <td>58</td>\n",
       "      <td>Waqas</td>\n",
       "      <td>78000</td>\n",
       "    </tr>\n",
       "    <tr>\n",
       "      <th>13</th>\n",
       "      <td>24</td>\n",
       "      <td>Yaseen</td>\n",
       "      <td>23000</td>\n",
       "    </tr>\n",
       "    <tr>\n",
       "      <th>14</th>\n",
       "      <td>50</td>\n",
       "      <td>Dawood</td>\n",
       "      <td>4000</td>\n",
       "    </tr>\n",
       "  </tbody>\n",
       "</table>\n",
       "</div>"
      ],
      "text/plain": [
       "    Age    Name  Salary\n",
       "0    19    Maaz    3000\n",
       "1    21   Talha    8000\n",
       "2    20  Yaseen    2080\n",
       "3    23   Waqas   10000\n",
       "4    31    Saim  150000\n",
       "5    22   Javid    1200\n",
       "6    35    Abid    1000\n",
       "7    23   Hamza   24000\n",
       "8    64   Wasif   32000\n",
       "9    30   Waqas   70000\n",
       "10   67  Shayan   90000\n",
       "11   35    Saad   60000\n",
       "12   58   Waqas   78000\n",
       "13   24  Yaseen   23000\n",
       "14   50  Dawood    4000"
      ]
     },
     "execution_count": 123,
     "metadata": {},
     "output_type": "execute_result"
    }
   ],
   "source": [
    "df"
   ]
  },
  {
   "cell_type": "markdown",
   "id": "0cbc8685",
   "metadata": {},
   "source": [
    "# Read CSV, Excel, Json file "
   ]
  },
  {
   "cell_type": "markdown",
   "id": "aec730c1",
   "metadata": {},
   "source": [
    "CSV, Excel, Json file Upload"
   ]
  },
  {
   "cell_type": "markdown",
   "id": "d3b8e761",
   "metadata": {},
   "source": [
    "pd.read_csv('file.csv')   \n",
    "pd.read_excel('file.xlsx')  \n",
    "pd.read_json('file.json')  "
   ]
  },
  {
   "cell_type": "markdown",
   "id": "5b531533",
   "metadata": {},
   "source": [
    "# head() function in Pandas"
   ]
  },
  {
   "cell_type": "markdown",
   "id": "2ccefb34",
   "metadata": {},
   "source": [
    "The head() function in pandas is used to see the First five rows of a DataFrame."
   ]
  },
  {
   "cell_type": "code",
   "execution_count": 124,
   "id": "c09e3ae5",
   "metadata": {},
   "outputs": [
    {
     "data": {
      "text/html": [
       "<div>\n",
       "<style scoped>\n",
       "    .dataframe tbody tr th:only-of-type {\n",
       "        vertical-align: middle;\n",
       "    }\n",
       "\n",
       "    .dataframe tbody tr th {\n",
       "        vertical-align: top;\n",
       "    }\n",
       "\n",
       "    .dataframe thead th {\n",
       "        text-align: right;\n",
       "    }\n",
       "</style>\n",
       "<table border=\"1\" class=\"dataframe\">\n",
       "  <thead>\n",
       "    <tr style=\"text-align: right;\">\n",
       "      <th></th>\n",
       "      <th>Age</th>\n",
       "      <th>Name</th>\n",
       "      <th>Salary</th>\n",
       "    </tr>\n",
       "  </thead>\n",
       "  <tbody>\n",
       "    <tr>\n",
       "      <th>0</th>\n",
       "      <td>19</td>\n",
       "      <td>Maaz</td>\n",
       "      <td>3000</td>\n",
       "    </tr>\n",
       "    <tr>\n",
       "      <th>1</th>\n",
       "      <td>21</td>\n",
       "      <td>Talha</td>\n",
       "      <td>8000</td>\n",
       "    </tr>\n",
       "    <tr>\n",
       "      <th>2</th>\n",
       "      <td>20</td>\n",
       "      <td>Yaseen</td>\n",
       "      <td>2080</td>\n",
       "    </tr>\n",
       "    <tr>\n",
       "      <th>3</th>\n",
       "      <td>23</td>\n",
       "      <td>Waqas</td>\n",
       "      <td>10000</td>\n",
       "    </tr>\n",
       "    <tr>\n",
       "      <th>4</th>\n",
       "      <td>31</td>\n",
       "      <td>Saim</td>\n",
       "      <td>150000</td>\n",
       "    </tr>\n",
       "  </tbody>\n",
       "</table>\n",
       "</div>"
      ],
      "text/plain": [
       "   Age    Name  Salary\n",
       "0   19    Maaz    3000\n",
       "1   21   Talha    8000\n",
       "2   20  Yaseen    2080\n",
       "3   23   Waqas   10000\n",
       "4   31    Saim  150000"
      ]
     },
     "execution_count": 124,
     "metadata": {},
     "output_type": "execute_result"
    }
   ],
   "source": [
    "df.head() # First five rows in dataframe "
   ]
  },
  {
   "cell_type": "code",
   "execution_count": 125,
   "id": "f1df8ed0",
   "metadata": {},
   "outputs": [
    {
     "data": {
      "text/html": [
       "<div>\n",
       "<style scoped>\n",
       "    .dataframe tbody tr th:only-of-type {\n",
       "        vertical-align: middle;\n",
       "    }\n",
       "\n",
       "    .dataframe tbody tr th {\n",
       "        vertical-align: top;\n",
       "    }\n",
       "\n",
       "    .dataframe thead th {\n",
       "        text-align: right;\n",
       "    }\n",
       "</style>\n",
       "<table border=\"1\" class=\"dataframe\">\n",
       "  <thead>\n",
       "    <tr style=\"text-align: right;\">\n",
       "      <th></th>\n",
       "      <th>Age</th>\n",
       "      <th>Name</th>\n",
       "      <th>Salary</th>\n",
       "    </tr>\n",
       "  </thead>\n",
       "  <tbody>\n",
       "    <tr>\n",
       "      <th>0</th>\n",
       "      <td>19</td>\n",
       "      <td>Maaz</td>\n",
       "      <td>3000</td>\n",
       "    </tr>\n",
       "    <tr>\n",
       "      <th>1</th>\n",
       "      <td>21</td>\n",
       "      <td>Talha</td>\n",
       "      <td>8000</td>\n",
       "    </tr>\n",
       "    <tr>\n",
       "      <th>2</th>\n",
       "      <td>20</td>\n",
       "      <td>Yaseen</td>\n",
       "      <td>2080</td>\n",
       "    </tr>\n",
       "  </tbody>\n",
       "</table>\n",
       "</div>"
      ],
      "text/plain": [
       "   Age    Name  Salary\n",
       "0   19    Maaz    3000\n",
       "1   21   Talha    8000\n",
       "2   20  Yaseen    2080"
      ]
     },
     "execution_count": 125,
     "metadata": {},
     "output_type": "execute_result"
    }
   ],
   "source": [
    "df.head(3)"
   ]
  },
  {
   "cell_type": "markdown",
   "id": "e2af21c0",
   "metadata": {},
   "source": [
    "# tail() function in Pandas"
   ]
  },
  {
   "cell_type": "markdown",
   "id": "5ca9797e",
   "metadata": {},
   "source": [
    "The tail() function in pandas is used to see the Last five rows of a DataFrame."
   ]
  },
  {
   "cell_type": "code",
   "execution_count": 126,
   "id": "92446eac",
   "metadata": {},
   "outputs": [
    {
     "data": {
      "text/html": [
       "<div>\n",
       "<style scoped>\n",
       "    .dataframe tbody tr th:only-of-type {\n",
       "        vertical-align: middle;\n",
       "    }\n",
       "\n",
       "    .dataframe tbody tr th {\n",
       "        vertical-align: top;\n",
       "    }\n",
       "\n",
       "    .dataframe thead th {\n",
       "        text-align: right;\n",
       "    }\n",
       "</style>\n",
       "<table border=\"1\" class=\"dataframe\">\n",
       "  <thead>\n",
       "    <tr style=\"text-align: right;\">\n",
       "      <th></th>\n",
       "      <th>Age</th>\n",
       "      <th>Name</th>\n",
       "      <th>Salary</th>\n",
       "    </tr>\n",
       "  </thead>\n",
       "  <tbody>\n",
       "    <tr>\n",
       "      <th>10</th>\n",
       "      <td>67</td>\n",
       "      <td>Shayan</td>\n",
       "      <td>90000</td>\n",
       "    </tr>\n",
       "    <tr>\n",
       "      <th>11</th>\n",
       "      <td>35</td>\n",
       "      <td>Saad</td>\n",
       "      <td>60000</td>\n",
       "    </tr>\n",
       "    <tr>\n",
       "      <th>12</th>\n",
       "      <td>58</td>\n",
       "      <td>Waqas</td>\n",
       "      <td>78000</td>\n",
       "    </tr>\n",
       "    <tr>\n",
       "      <th>13</th>\n",
       "      <td>24</td>\n",
       "      <td>Yaseen</td>\n",
       "      <td>23000</td>\n",
       "    </tr>\n",
       "    <tr>\n",
       "      <th>14</th>\n",
       "      <td>50</td>\n",
       "      <td>Dawood</td>\n",
       "      <td>4000</td>\n",
       "    </tr>\n",
       "  </tbody>\n",
       "</table>\n",
       "</div>"
      ],
      "text/plain": [
       "    Age    Name  Salary\n",
       "10   67  Shayan   90000\n",
       "11   35    Saad   60000\n",
       "12   58   Waqas   78000\n",
       "13   24  Yaseen   23000\n",
       "14   50  Dawood    4000"
      ]
     },
     "execution_count": 126,
     "metadata": {},
     "output_type": "execute_result"
    }
   ],
   "source": [
    "df.tail() # Last five rows in dataframe "
   ]
  },
  {
   "cell_type": "code",
   "execution_count": 127,
   "id": "d7df5d6f",
   "metadata": {},
   "outputs": [
    {
     "data": {
      "text/html": [
       "<div>\n",
       "<style scoped>\n",
       "    .dataframe tbody tr th:only-of-type {\n",
       "        vertical-align: middle;\n",
       "    }\n",
       "\n",
       "    .dataframe tbody tr th {\n",
       "        vertical-align: top;\n",
       "    }\n",
       "\n",
       "    .dataframe thead th {\n",
       "        text-align: right;\n",
       "    }\n",
       "</style>\n",
       "<table border=\"1\" class=\"dataframe\">\n",
       "  <thead>\n",
       "    <tr style=\"text-align: right;\">\n",
       "      <th></th>\n",
       "      <th>Age</th>\n",
       "      <th>Name</th>\n",
       "      <th>Salary</th>\n",
       "    </tr>\n",
       "  </thead>\n",
       "  <tbody>\n",
       "    <tr>\n",
       "      <th>12</th>\n",
       "      <td>58</td>\n",
       "      <td>Waqas</td>\n",
       "      <td>78000</td>\n",
       "    </tr>\n",
       "    <tr>\n",
       "      <th>13</th>\n",
       "      <td>24</td>\n",
       "      <td>Yaseen</td>\n",
       "      <td>23000</td>\n",
       "    </tr>\n",
       "    <tr>\n",
       "      <th>14</th>\n",
       "      <td>50</td>\n",
       "      <td>Dawood</td>\n",
       "      <td>4000</td>\n",
       "    </tr>\n",
       "  </tbody>\n",
       "</table>\n",
       "</div>"
      ],
      "text/plain": [
       "    Age    Name  Salary\n",
       "12   58   Waqas   78000\n",
       "13   24  Yaseen   23000\n",
       "14   50  Dawood    4000"
      ]
     },
     "execution_count": 127,
     "metadata": {},
     "output_type": "execute_result"
    }
   ],
   "source": [
    "df.tail(3)"
   ]
  },
  {
   "cell_type": "markdown",
   "id": "ba84ac25",
   "metadata": {},
   "source": [
    "# Shape Attribute in Pandas"
   ]
  },
  {
   "cell_type": "markdown",
   "id": "97a752ff",
   "metadata": {},
   "source": [
    "The shape attribute in pandas tells you the number of rows and columns in a DataFrame."
   ]
  },
  {
   "cell_type": "code",
   "execution_count": 128,
   "id": "bbceb3df",
   "metadata": {},
   "outputs": [
    {
     "data": {
      "text/plain": [
       "(15, 3)"
      ]
     },
     "execution_count": 128,
     "metadata": {},
     "output_type": "execute_result"
    }
   ],
   "source": [
    "df.shape #total 15 rows 3 columns (features) in Dataframe"
   ]
  },
  {
   "cell_type": "markdown",
   "id": "9ce47633",
   "metadata": {},
   "source": [
    "# info() function in Pandas"
   ]
  },
  {
   "cell_type": "markdown",
   "id": "5a44bb6c",
   "metadata": {},
   "source": [
    "The info() function in pandas gives a summary of the DataFrame.\n",
    "- Number of rows and columns\n",
    "\n",
    "- Column names\n",
    "\n",
    "- Data types of each column\n",
    "\n",
    "- Non-null (non-empty) values in each column\n",
    "\n",
    "- Memory usage"
   ]
  },
  {
   "cell_type": "code",
   "execution_count": 129,
   "id": "33afe383",
   "metadata": {},
   "outputs": [
    {
     "name": "stdout",
     "output_type": "stream",
     "text": [
      "<class 'pandas.core.frame.DataFrame'>\n",
      "RangeIndex: 15 entries, 0 to 14\n",
      "Data columns (total 3 columns):\n",
      " #   Column  Non-Null Count  Dtype \n",
      "---  ------  --------------  ----- \n",
      " 0   Age     15 non-null     int64 \n",
      " 1   Name    15 non-null     object\n",
      " 2   Salary  15 non-null     int64 \n",
      "dtypes: int64(2), object(1)\n",
      "memory usage: 488.0+ bytes\n"
     ]
    }
   ],
   "source": [
    "df.info()"
   ]
  },
  {
   "cell_type": "markdown",
   "id": "282aea99",
   "metadata": {},
   "source": [
    "# describe() function in Pandas"
   ]
  },
  {
   "cell_type": "markdown",
   "id": "3b4dcc42",
   "metadata": {},
   "source": [
    "The describe() function gives statistical summary of numerical columns in a DataFrame.\n",
    "\n"
   ]
  },
  {
   "cell_type": "markdown",
   "id": "88610e2c",
   "metadata": {},
   "source": [
    "- Count (number of values)\n",
    "\n",
    "- Mean (average)\n",
    "\n",
    "- Standard deviation (std)\n",
    "\n",
    "- Min (minimum)\n",
    "\n",
    "- Max (maximum)\n",
    "\n",
    "- 25%, 50%, 75% (percentiles/quantiles)"
   ]
  },
  {
   "cell_type": "code",
   "execution_count": 130,
   "id": "827dd853",
   "metadata": {},
   "outputs": [
    {
     "data": {
      "text/html": [
       "<div>\n",
       "<style scoped>\n",
       "    .dataframe tbody tr th:only-of-type {\n",
       "        vertical-align: middle;\n",
       "    }\n",
       "\n",
       "    .dataframe tbody tr th {\n",
       "        vertical-align: top;\n",
       "    }\n",
       "\n",
       "    .dataframe thead th {\n",
       "        text-align: right;\n",
       "    }\n",
       "</style>\n",
       "<table border=\"1\" class=\"dataframe\">\n",
       "  <thead>\n",
       "    <tr style=\"text-align: right;\">\n",
       "      <th></th>\n",
       "      <th>Age</th>\n",
       "      <th>Salary</th>\n",
       "    </tr>\n",
       "  </thead>\n",
       "  <tbody>\n",
       "    <tr>\n",
       "      <th>count</th>\n",
       "      <td>15.000000</td>\n",
       "      <td>15.000000</td>\n",
       "    </tr>\n",
       "    <tr>\n",
       "      <th>mean</th>\n",
       "      <td>34.800000</td>\n",
       "      <td>37085.333333</td>\n",
       "    </tr>\n",
       "    <tr>\n",
       "      <th>std</th>\n",
       "      <td>16.721244</td>\n",
       "      <td>43816.938321</td>\n",
       "    </tr>\n",
       "    <tr>\n",
       "      <th>min</th>\n",
       "      <td>19.000000</td>\n",
       "      <td>1000.000000</td>\n",
       "    </tr>\n",
       "    <tr>\n",
       "      <th>25%</th>\n",
       "      <td>22.500000</td>\n",
       "      <td>3500.000000</td>\n",
       "    </tr>\n",
       "    <tr>\n",
       "      <th>50%</th>\n",
       "      <td>30.000000</td>\n",
       "      <td>23000.000000</td>\n",
       "    </tr>\n",
       "    <tr>\n",
       "      <th>75%</th>\n",
       "      <td>42.500000</td>\n",
       "      <td>65000.000000</td>\n",
       "    </tr>\n",
       "    <tr>\n",
       "      <th>max</th>\n",
       "      <td>67.000000</td>\n",
       "      <td>150000.000000</td>\n",
       "    </tr>\n",
       "  </tbody>\n",
       "</table>\n",
       "</div>"
      ],
      "text/plain": [
       "             Age         Salary\n",
       "count  15.000000      15.000000\n",
       "mean   34.800000   37085.333333\n",
       "std    16.721244   43816.938321\n",
       "min    19.000000    1000.000000\n",
       "25%    22.500000    3500.000000\n",
       "50%    30.000000   23000.000000\n",
       "75%    42.500000   65000.000000\n",
       "max    67.000000  150000.000000"
      ]
     },
     "execution_count": 130,
     "metadata": {},
     "output_type": "execute_result"
    }
   ],
   "source": [
    "df.describe()"
   ]
  },
  {
   "cell_type": "markdown",
   "id": "08b25ce8",
   "metadata": {},
   "source": [
    "# corr() function in Pandas"
   ]
  },
  {
   "cell_type": "markdown",
   "id": "0f40037b",
   "metadata": {},
   "source": [
    "The corr() function in pandas calculates the correlation between numerical columns in a DataFrame"
   ]
  },
  {
   "cell_type": "markdown",
   "id": "05cd9b1c",
   "metadata": {},
   "source": [
    "- +1 → Strong positive relationship\n",
    "\n",
    "- -1 → Strong negative relationship\n",
    "\n",
    "- 0 → No relationship"
   ]
  },
  {
   "cell_type": "code",
   "execution_count": 131,
   "id": "e0f2d56f",
   "metadata": {},
   "outputs": [
    {
     "data": {
      "text/html": [
       "<div>\n",
       "<style scoped>\n",
       "    .dataframe tbody tr th:only-of-type {\n",
       "        vertical-align: middle;\n",
       "    }\n",
       "\n",
       "    .dataframe tbody tr th {\n",
       "        vertical-align: top;\n",
       "    }\n",
       "\n",
       "    .dataframe thead th {\n",
       "        text-align: right;\n",
       "    }\n",
       "</style>\n",
       "<table border=\"1\" class=\"dataframe\">\n",
       "  <thead>\n",
       "    <tr style=\"text-align: right;\">\n",
       "      <th></th>\n",
       "      <th>Age</th>\n",
       "      <th>Salary</th>\n",
       "    </tr>\n",
       "  </thead>\n",
       "  <tbody>\n",
       "    <tr>\n",
       "      <th>Age</th>\n",
       "      <td>1.000000</td>\n",
       "      <td>0.385619</td>\n",
       "    </tr>\n",
       "    <tr>\n",
       "      <th>Salary</th>\n",
       "      <td>0.385619</td>\n",
       "      <td>1.000000</td>\n",
       "    </tr>\n",
       "  </tbody>\n",
       "</table>\n",
       "</div>"
      ],
      "text/plain": [
       "             Age    Salary\n",
       "Age     1.000000  0.385619\n",
       "Salary  0.385619  1.000000"
      ]
     },
     "execution_count": 131,
     "metadata": {},
     "output_type": "execute_result"
    }
   ],
   "source": [
    "df.corr()"
   ]
  },
  {
   "cell_type": "markdown",
   "id": "8fc16691",
   "metadata": {},
   "source": [
    "# Series in Pandas"
   ]
  },
  {
   "cell_type": "markdown",
   "id": "f2c873f8",
   "metadata": {},
   "source": [
    "A Series is a one-dimensional labeled array in pandas. It can hold any data type (integers, strings, floats, etc)."
   ]
  },
  {
   "cell_type": "code",
   "execution_count": 132,
   "id": "3790f112",
   "metadata": {},
   "outputs": [
    {
     "data": {
      "text/plain": [
       "0     19\n",
       "1     21\n",
       "2     20\n",
       "3     23\n",
       "4     31\n",
       "5     22\n",
       "6     35\n",
       "7     23\n",
       "8     64\n",
       "9     30\n",
       "10    67\n",
       "11    35\n",
       "12    58\n",
       "13    24\n",
       "14    50\n",
       "Name: Age, dtype: int64"
      ]
     },
     "execution_count": 132,
     "metadata": {},
     "output_type": "execute_result"
    }
   ],
   "source": [
    "df['Age']"
   ]
  },
  {
   "cell_type": "code",
   "execution_count": 133,
   "id": "17635f9a",
   "metadata": {},
   "outputs": [
    {
     "data": {
      "text/plain": [
       "0     19\n",
       "1     21\n",
       "2     20\n",
       "3     23\n",
       "4     31\n",
       "5     22\n",
       "6     35\n",
       "7     23\n",
       "8     64\n",
       "9     30\n",
       "10    67\n",
       "11    35\n",
       "12    58\n",
       "13    24\n",
       "14    50\n",
       "Name: Age, dtype: int64"
      ]
     },
     "execution_count": 133,
     "metadata": {},
     "output_type": "execute_result"
    }
   ],
   "source": [
    "df.Age"
   ]
  },
  {
   "cell_type": "markdown",
   "id": "871af73f",
   "metadata": {},
   "source": [
    "# iloc[ ] function in Pandas"
   ]
  },
  {
   "cell_type": "markdown",
   "id": "17590479",
   "metadata": {},
   "source": [
    "The iloc[] function in pandas is used to select rows and columns by their index position (integer-based indexing).\n",
    "\n"
   ]
  },
  {
   "cell_type": "code",
   "execution_count": 134,
   "id": "73542f71",
   "metadata": {},
   "outputs": [
    {
     "data": {
      "text/plain": [
       "Age         19\n",
       "Name      Maaz\n",
       "Salary    3000\n",
       "Name: 0, dtype: object"
      ]
     },
     "execution_count": 134,
     "metadata": {},
     "output_type": "execute_result"
    }
   ],
   "source": [
    "df.iloc[0] # first row select "
   ]
  },
  {
   "cell_type": "code",
   "execution_count": 135,
   "id": "1d17f248",
   "metadata": {},
   "outputs": [
    {
     "data": {
      "text/html": [
       "<div>\n",
       "<style scoped>\n",
       "    .dataframe tbody tr th:only-of-type {\n",
       "        vertical-align: middle;\n",
       "    }\n",
       "\n",
       "    .dataframe tbody tr th {\n",
       "        vertical-align: top;\n",
       "    }\n",
       "\n",
       "    .dataframe thead th {\n",
       "        text-align: right;\n",
       "    }\n",
       "</style>\n",
       "<table border=\"1\" class=\"dataframe\">\n",
       "  <thead>\n",
       "    <tr style=\"text-align: right;\">\n",
       "      <th></th>\n",
       "      <th>Age</th>\n",
       "      <th>Name</th>\n",
       "      <th>Salary</th>\n",
       "    </tr>\n",
       "  </thead>\n",
       "  <tbody>\n",
       "    <tr>\n",
       "      <th>0</th>\n",
       "      <td>19</td>\n",
       "      <td>Maaz</td>\n",
       "      <td>3000</td>\n",
       "    </tr>\n",
       "    <tr>\n",
       "      <th>1</th>\n",
       "      <td>21</td>\n",
       "      <td>Talha</td>\n",
       "      <td>8000</td>\n",
       "    </tr>\n",
       "  </tbody>\n",
       "</table>\n",
       "</div>"
      ],
      "text/plain": [
       "   Age   Name  Salary\n",
       "0   19   Maaz    3000\n",
       "1   21  Talha    8000"
      ]
     },
     "execution_count": 135,
     "metadata": {},
     "output_type": "execute_result"
    }
   ],
   "source": [
    "df.iloc[0:2]"
   ]
  },
  {
   "cell_type": "code",
   "execution_count": 136,
   "id": "a5611717",
   "metadata": {},
   "outputs": [
    {
     "data": {
      "text/html": [
       "<div>\n",
       "<style scoped>\n",
       "    .dataframe tbody tr th:only-of-type {\n",
       "        vertical-align: middle;\n",
       "    }\n",
       "\n",
       "    .dataframe tbody tr th {\n",
       "        vertical-align: top;\n",
       "    }\n",
       "\n",
       "    .dataframe thead th {\n",
       "        text-align: right;\n",
       "    }\n",
       "</style>\n",
       "<table border=\"1\" class=\"dataframe\">\n",
       "  <thead>\n",
       "    <tr style=\"text-align: right;\">\n",
       "      <th></th>\n",
       "      <th>Age</th>\n",
       "      <th>Name</th>\n",
       "    </tr>\n",
       "  </thead>\n",
       "  <tbody>\n",
       "    <tr>\n",
       "      <th>0</th>\n",
       "      <td>19</td>\n",
       "      <td>Maaz</td>\n",
       "    </tr>\n",
       "    <tr>\n",
       "      <th>1</th>\n",
       "      <td>21</td>\n",
       "      <td>Talha</td>\n",
       "    </tr>\n",
       "    <tr>\n",
       "      <th>2</th>\n",
       "      <td>20</td>\n",
       "      <td>Yaseen</td>\n",
       "    </tr>\n",
       "    <tr>\n",
       "      <th>3</th>\n",
       "      <td>23</td>\n",
       "      <td>Waqas</td>\n",
       "    </tr>\n",
       "    <tr>\n",
       "      <th>4</th>\n",
       "      <td>31</td>\n",
       "      <td>Saim</td>\n",
       "    </tr>\n",
       "    <tr>\n",
       "      <th>5</th>\n",
       "      <td>22</td>\n",
       "      <td>Javid</td>\n",
       "    </tr>\n",
       "    <tr>\n",
       "      <th>6</th>\n",
       "      <td>35</td>\n",
       "      <td>Abid</td>\n",
       "    </tr>\n",
       "    <tr>\n",
       "      <th>7</th>\n",
       "      <td>23</td>\n",
       "      <td>Hamza</td>\n",
       "    </tr>\n",
       "    <tr>\n",
       "      <th>8</th>\n",
       "      <td>64</td>\n",
       "      <td>Wasif</td>\n",
       "    </tr>\n",
       "    <tr>\n",
       "      <th>9</th>\n",
       "      <td>30</td>\n",
       "      <td>Waqas</td>\n",
       "    </tr>\n",
       "    <tr>\n",
       "      <th>10</th>\n",
       "      <td>67</td>\n",
       "      <td>Shayan</td>\n",
       "    </tr>\n",
       "    <tr>\n",
       "      <th>11</th>\n",
       "      <td>35</td>\n",
       "      <td>Saad</td>\n",
       "    </tr>\n",
       "    <tr>\n",
       "      <th>12</th>\n",
       "      <td>58</td>\n",
       "      <td>Waqas</td>\n",
       "    </tr>\n",
       "    <tr>\n",
       "      <th>13</th>\n",
       "      <td>24</td>\n",
       "      <td>Yaseen</td>\n",
       "    </tr>\n",
       "    <tr>\n",
       "      <th>14</th>\n",
       "      <td>50</td>\n",
       "      <td>Dawood</td>\n",
       "    </tr>\n",
       "  </tbody>\n",
       "</table>\n",
       "</div>"
      ],
      "text/plain": [
       "    Age    Name\n",
       "0    19    Maaz\n",
       "1    21   Talha\n",
       "2    20  Yaseen\n",
       "3    23   Waqas\n",
       "4    31    Saim\n",
       "5    22   Javid\n",
       "6    35    Abid\n",
       "7    23   Hamza\n",
       "8    64   Wasif\n",
       "9    30   Waqas\n",
       "10   67  Shayan\n",
       "11   35    Saad\n",
       "12   58   Waqas\n",
       "13   24  Yaseen\n",
       "14   50  Dawood"
      ]
     },
     "execution_count": 136,
     "metadata": {},
     "output_type": "execute_result"
    }
   ],
   "source": [
    "df.iloc[:, 0:2]  # (:) mean all rows\n",
    "                 #(,) mean columns, (0:2 index)  0 column Gender, 1 Name"
   ]
  },
  {
   "cell_type": "markdown",
   "id": "f21e5a1e",
   "metadata": {},
   "source": [
    "# value_counts() function in Pandas"
   ]
  },
  {
   "cell_type": "markdown",
   "id": "293bc0e8",
   "metadata": {},
   "source": [
    "The value_counts() function in pandas is used to count the unique values in a Series or column of a DataFrame.  \n",
    "- It returns a count of how many times each value appears in a column or Series.\n",
    "\n",
    "- By default, it sorts the counts in descending order."
   ]
  },
  {
   "cell_type": "code",
   "execution_count": 137,
   "id": "2147d0ad",
   "metadata": {},
   "outputs": [
    {
     "data": {
      "text/plain": [
       "Waqas     3\n",
       "Yaseen    2\n",
       "Maaz      1\n",
       "Talha     1\n",
       "Saim      1\n",
       "Javid     1\n",
       "Abid      1\n",
       "Hamza     1\n",
       "Wasif     1\n",
       "Shayan    1\n",
       "Saad      1\n",
       "Dawood    1\n",
       "Name: Name, dtype: int64"
      ]
     },
     "execution_count": 137,
     "metadata": {},
     "output_type": "execute_result"
    }
   ],
   "source": [
    "df['Name'].value_counts() # Waqas name 3 time in Dataframe"
   ]
  },
  {
   "cell_type": "markdown",
   "id": "951f7805",
   "metadata": {},
   "source": [
    "# drop_duplicates method in Pandas"
   ]
  },
  {
   "cell_type": "markdown",
   "id": "3ae0334d",
   "metadata": {},
   "source": [
    "The drop_duplicates() function in pandas is used to remove duplicate rows from a DataFrame or Series."
   ]
  },
  {
   "cell_type": "markdown",
   "id": "f67257ad",
   "metadata": {},
   "source": [
    "# fillna method in Pandas"
   ]
  },
  {
   "cell_type": "markdown",
   "id": "49bd232d",
   "metadata": {},
   "source": [
    "The fillna() function in pandas is used to fill missing or NaN (Not a Number) values in a DataFrame or Series with a specified value or method."
   ]
  },
  {
   "cell_type": "markdown",
   "id": "3fac1655",
   "metadata": {},
   "source": [
    "# dropna method in Pandas"
   ]
  },
  {
   "cell_type": "markdown",
   "id": "17427656",
   "metadata": {},
   "source": [
    "The dropna() function in pandas is used to remove rows or columns that contain missing (NaN) values."
   ]
  },
  {
   "cell_type": "markdown",
   "id": "b031430b",
   "metadata": {},
   "source": [
    "# group by function in Pandas"
   ]
  },
  {
   "cell_type": "markdown",
   "id": "b0d269fe",
   "metadata": {},
   "source": [
    "The groupby() function in pandas is used to group data based on one or more columns and\n",
    "then apply an aggregation or transformation operation to each group.\n",
    "\n"
   ]
  },
  {
   "cell_type": "markdown",
   "id": "6c52dc4e",
   "metadata": {},
   "source": [
    "# rename() function in Pandas"
   ]
  },
  {
   "cell_type": "markdown",
   "id": "dc1c7df9",
   "metadata": {},
   "source": [
    "The rename() function in pandas is used to change the labels of rows (index) or columns in a DataFrame.\n",
    "\n"
   ]
  },
  {
   "cell_type": "code",
   "execution_count": 140,
   "id": "ed1e2602",
   "metadata": {},
   "outputs": [
    {
     "data": {
      "text/html": [
       "<div>\n",
       "<style scoped>\n",
       "    .dataframe tbody tr th:only-of-type {\n",
       "        vertical-align: middle;\n",
       "    }\n",
       "\n",
       "    .dataframe tbody tr th {\n",
       "        vertical-align: top;\n",
       "    }\n",
       "\n",
       "    .dataframe thead th {\n",
       "        text-align: right;\n",
       "    }\n",
       "</style>\n",
       "<table border=\"1\" class=\"dataframe\">\n",
       "  <thead>\n",
       "    <tr style=\"text-align: right;\">\n",
       "      <th></th>\n",
       "      <th>Marks</th>\n",
       "      <th>Name</th>\n",
       "      <th>Salary</th>\n",
       "    </tr>\n",
       "  </thead>\n",
       "  <tbody>\n",
       "    <tr>\n",
       "      <th>0</th>\n",
       "      <td>19</td>\n",
       "      <td>Maaz</td>\n",
       "      <td>3000</td>\n",
       "    </tr>\n",
       "    <tr>\n",
       "      <th>1</th>\n",
       "      <td>21</td>\n",
       "      <td>Talha</td>\n",
       "      <td>8000</td>\n",
       "    </tr>\n",
       "    <tr>\n",
       "      <th>2</th>\n",
       "      <td>20</td>\n",
       "      <td>Yaseen</td>\n",
       "      <td>2080</td>\n",
       "    </tr>\n",
       "    <tr>\n",
       "      <th>3</th>\n",
       "      <td>23</td>\n",
       "      <td>Waqas</td>\n",
       "      <td>10000</td>\n",
       "    </tr>\n",
       "    <tr>\n",
       "      <th>4</th>\n",
       "      <td>31</td>\n",
       "      <td>Saim</td>\n",
       "      <td>150000</td>\n",
       "    </tr>\n",
       "    <tr>\n",
       "      <th>5</th>\n",
       "      <td>22</td>\n",
       "      <td>Javid</td>\n",
       "      <td>1200</td>\n",
       "    </tr>\n",
       "    <tr>\n",
       "      <th>6</th>\n",
       "      <td>35</td>\n",
       "      <td>Abid</td>\n",
       "      <td>1000</td>\n",
       "    </tr>\n",
       "    <tr>\n",
       "      <th>7</th>\n",
       "      <td>23</td>\n",
       "      <td>Hamza</td>\n",
       "      <td>24000</td>\n",
       "    </tr>\n",
       "    <tr>\n",
       "      <th>8</th>\n",
       "      <td>64</td>\n",
       "      <td>Wasif</td>\n",
       "      <td>32000</td>\n",
       "    </tr>\n",
       "    <tr>\n",
       "      <th>9</th>\n",
       "      <td>30</td>\n",
       "      <td>Waqas</td>\n",
       "      <td>70000</td>\n",
       "    </tr>\n",
       "    <tr>\n",
       "      <th>10</th>\n",
       "      <td>67</td>\n",
       "      <td>Shayan</td>\n",
       "      <td>90000</td>\n",
       "    </tr>\n",
       "    <tr>\n",
       "      <th>11</th>\n",
       "      <td>35</td>\n",
       "      <td>Saad</td>\n",
       "      <td>60000</td>\n",
       "    </tr>\n",
       "    <tr>\n",
       "      <th>12</th>\n",
       "      <td>58</td>\n",
       "      <td>Waqas</td>\n",
       "      <td>78000</td>\n",
       "    </tr>\n",
       "    <tr>\n",
       "      <th>13</th>\n",
       "      <td>24</td>\n",
       "      <td>Yaseen</td>\n",
       "      <td>23000</td>\n",
       "    </tr>\n",
       "    <tr>\n",
       "      <th>14</th>\n",
       "      <td>50</td>\n",
       "      <td>Dawood</td>\n",
       "      <td>4000</td>\n",
       "    </tr>\n",
       "  </tbody>\n",
       "</table>\n",
       "</div>"
      ],
      "text/plain": [
       "    Marks    Name  Salary\n",
       "0      19    Maaz    3000\n",
       "1      21   Talha    8000\n",
       "2      20  Yaseen    2080\n",
       "3      23   Waqas   10000\n",
       "4      31    Saim  150000\n",
       "5      22   Javid    1200\n",
       "6      35    Abid    1000\n",
       "7      23   Hamza   24000\n",
       "8      64   Wasif   32000\n",
       "9      30   Waqas   70000\n",
       "10     67  Shayan   90000\n",
       "11     35    Saad   60000\n",
       "12     58   Waqas   78000\n",
       "13     24  Yaseen   23000\n",
       "14     50  Dawood    4000"
      ]
     },
     "execution_count": 140,
     "metadata": {},
     "output_type": "execute_result"
    }
   ],
   "source": [
    "df.rename(columns={'Age':'Marks'}) # Age columns name change Marks"
   ]
  },
  {
   "cell_type": "markdown",
   "id": "161b10ad",
   "metadata": {},
   "source": [
    "# Pandas Plot"
   ]
  },
  {
   "cell_type": "code",
   "execution_count": 141,
   "id": "151a6642",
   "metadata": {},
   "outputs": [
    {
     "data": {
      "image/png": "[encoded data removed]",
      "text/plain": [
       "<Figure size 432x288 with 1 Axes>"
      ]
     },
     "metadata": {
      "needs_background": "light"
     },
     "output_type": "display_data"
    }
   ],
   "source": [
    "df['Salary'].plot(kind='bar')\n",
    "plt.show()"
   ]
  },
  {
   "cell_type": "code",
   "execution_count": 142,
   "id": "d2e7fc64",
   "metadata": {},
   "outputs": [
    {
     "data": {
      "image/png": "[encoded data removed]",
      "text/plain": [
       "<Figure size 432x288 with 1 Axes>"
      ]
     },
     "metadata": {
      "needs_background": "light"
     },
     "output_type": "display_data"
    }
   ],
   "source": [
    "df['Age'].plot(kind='hist') #hist plot show Data Distribution \n",
    "plt.show()"
   ]
  },
  {
   "cell_type": "code",
   "execution_count": null,
   "id": "27ad09ad",
   "metadata": {},
   "outputs": [],
   "source": []
  }
 ],
 "metadata": {
  "kernelspec": {
   "display_name": "Python 3 (ipykernel)",
   "language": "python",
   "name": "python3"
  },
  "language_info": {
   "codemirror_mode": {
    "name": "ipython",
    "version": 3
   },
   "file_extension": ".py",
   "mimetype": "text/x-python",
   "name": "python",
   "nbconvert_exporter": "python",
   "pygments_lexer": "ipython3",
   "version": "3.9.12"
  }
 },
 "nbformat": 4,
 "nbformat_minor": 5
}
